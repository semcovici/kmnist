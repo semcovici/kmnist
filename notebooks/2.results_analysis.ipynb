{
 "cells": [
  {
   "cell_type": "code",
   "execution_count": 1,
   "metadata": {},
   "outputs": [],
   "source": [
    "import pandas as pd\n",
    "import json\n",
    "import matplotlib.pyplot as plt\n",
    "from sklearn.metrics import classification_report\n",
    "\n",
    "import sys\n",
    "sys.path.append('../src/')\n",
    "from models.evaluation import get_classification_report "
   ]
  },
  {
   "cell_type": "code",
   "execution_count": 2,
   "metadata": {},
   "outputs": [],
   "source": [
    "RESULTS_PATH = \"../results/\"\n",
    "IMAGES_PATH = \"../images/\""
   ]
  },
  {
   "cell_type": "code",
   "execution_count": 3,
   "metadata": {},
   "outputs": [],
   "source": [
    "with open(RESULTS_PATH + \"history/fcnn_history.json\", 'r') as file:\n",
    "    \n",
    "    fcnn_history = json.loads(file.read())\n",
    "    \n",
    "with open(RESULTS_PATH + \"history/fcnn_aug_history.json\", 'r') as file:\n",
    "    \n",
    "    fcnn_aug_history = json.loads(file.read())\n",
    "    \n",
    "with open(RESULTS_PATH + \"history/cnn_history.json\", 'r') as file:\n",
    "    \n",
    "    cnn_history = json.loads(file.read())\n",
    "    \n",
    "with open(RESULTS_PATH + \"history/cnn_aug_history.json\", 'r') as file:\n",
    "    \n",
    "    cnn_aug_history = json.loads(file.read())\n",
    "    \n",
    "with open(RESULTS_PATH + \"history/cnn_without_polling_history.json\", 'r') as file:\n",
    "    \n",
    "    cnn_wo_poll_history = json.loads(file.read())\n",
    "    \n",
    "with open(RESULTS_PATH + \"history/benchmark_cnn_history.json\", 'r') as file:\n",
    "    \n",
    "    benchmark_cnn_history = json.loads(file.read())\n"
   ]
  },
  {
   "cell_type": "code",
   "execution_count": 4,
   "metadata": {},
   "outputs": [],
   "source": [
    "test_results_benchmark = pd.read_csv(RESULTS_PATH + 'test/cnn_benchmark_test_results.csv')\n",
    "train_results_benchmark = pd.read_csv(RESULTS_PATH + 'train/cnn_benchmark_train_results.csv')\n",
    "\n",
    "train_results_cnn = pd.read_csv(RESULTS_PATH + 'train/cnn_train_results.csv')\n",
    "test_results_cnn = pd.read_csv(RESULTS_PATH + 'test/cnn_test_results.csv')\n",
    "\n",
    "train_results_cnn_wo_poll = pd.read_csv(RESULTS_PATH + 'train/cnn_without_polling_train_results.csv')\n",
    "test_results_cnn_wo_poll = pd.read_csv(RESULTS_PATH + 'test/cnn_without_polling_test_results.csv')\n",
    "\n",
    "train_results_cnn_aug = pd.read_csv(RESULTS_PATH + 'train/cnn_aug_train_results.csv')\n",
    "test_results_cnn_aug = pd.read_csv(RESULTS_PATH + 'test/cnn_aug_test_results.csv')\n",
    "\n",
    "train_results_fcnn = pd.read_csv(RESULTS_PATH + 'train/fcnn_train_results.csv')\n",
    "test_results_fcnn = pd.read_csv(RESULTS_PATH + 'test/fcnn_test_results.csv')\n",
    "\n",
    "train_results_fcnn_aug = pd.read_csv(RESULTS_PATH + 'train/fcnn_aug_train_results.csv')\n",
    "test_results_fcnn_aug = pd.read_csv(RESULTS_PATH + 'test/fcnn_aug_test_results.csv')"
   ]
  },
  {
   "cell_type": "markdown",
   "metadata": {},
   "source": [
    "## ANALYSIS"
   ]
  },
  {
   "cell_type": "code",
   "execution_count": 5,
   "metadata": {},
   "outputs": [],
   "source": [
    "\n",
    "def model_report(\n",
    "    name, \n",
    "    history,\n",
    "    train_results,\n",
    "    test_results\n",
    "    \n",
    "):\n",
    "    \n",
    "    # summarize history for accuracy\n",
    "    plt.plot(history['accuracy'])\n",
    "    plt.plot(history['val_accuracy'])\n",
    "    plt.title(f'Acurácia do modelo ao longo das épocas - {name}')\n",
    "    plt.ylabel('acurácia')\n",
    "    plt.xlabel('época')\n",
    "    plt.legend(['treino', 'validação'], loc='upper left')\n",
    "    plt.savefig(IMAGES_PATH + f'results_plt/{name.lower().replace(\" \", \"_\")}_accuracy_progress.png')\n",
    "\n",
    "    plt.clf()\n",
    "\n",
    "    # summarize history for loss\n",
    "    plt.plot(history['loss'])\n",
    "    plt.plot(history['val_loss'])\n",
    "    plt.title(f'Loss do modelo ao longo das épocas - {name}')\n",
    "    plt.ylabel('loss')\n",
    "    plt.xlabel('época')\n",
    "    plt.legend(['treino', 'validação'], loc='upper left')\n",
    "    plt.savefig(IMAGES_PATH + f'results_plt/{name.lower().replace(\" \", \"_\")}_loss_progress.png')\n",
    "        \n",
    "    plt.clf()   \n",
    "    \n",
    "    # summarize history for loss\n",
    "    plt.plot(history['learning_rate'])\n",
    "    plt.title(f'Taxa de aprendizado ao longo das épocas - {name}')\n",
    "    plt.ylabel('Taxa de aprendizado')\n",
    "    plt.xlabel('época')\n",
    "    plt.legend(['treino', 'validação'], loc='upper left')\n",
    "    plt.savefig(IMAGES_PATH + f'results_plt/{name.lower().replace(\" \", \"_\")}_learning_rate_progress.png')\n",
    "    \n",
    "    plt.clf()\n",
    "    \n",
    "    df_report_test = get_classification_report(test_results['y_test'], test_results['y_test_pred']).drop('support',axis= 1)\n",
    "    df_report_train = get_classification_report(train_results ['y_train'], train_results['y_train_pred']).drop('support',axis= 1)\n",
    "    \n",
    "    df_report_test.to_csv(\n",
    "        RESULTS_PATH + f'metrics/{name.lower().replace(\" \", \"_\")}_test_results.csv', \n",
    "        index = False\n",
    "        )\n",
    "    df_report_train.to_csv(\n",
    "        RESULTS_PATH + f'metrics/{name.lower().replace(\" \", \"_\")}_train_results.csv', \n",
    "        index = False\n",
    "        )\n",
    "    df_report_test.to_markdown(\n",
    "        RESULTS_PATH + f'metrics_md/{name.lower().replace(\" \", \"_\")}_test_results.md'\n",
    "        )\n",
    "    df_report_train.to_markdown(\n",
    "        RESULTS_PATH + f'metrics_md/{name.lower().replace(\" \", \"_\")}_train_results.md'\n",
    "        )\n",
    "    \n",
    "    df_report_test.to_html(\n",
    "        RESULTS_PATH + f'metrics_html/{name.lower().replace(\" \", \"_\")}_test_results.html'\n",
    "        )\n",
    "    df_report_train.to_html(\n",
    "        RESULTS_PATH + f'metrics_html/{name.lower().replace(\" \", \"_\")}_train_results.html'\n",
    "        )"
   ]
  },
  {
   "cell_type": "code",
   "execution_count": 6,
   "metadata": {},
   "outputs": [
    {
     "data": {
      "text/plain": [
       "<Figure size 640x480 with 0 Axes>"
      ]
     },
     "metadata": {},
     "output_type": "display_data"
    }
   ],
   "source": [
    "model_report(\n",
    "    name = 'FCNN',\n",
    "    history = fcnn_history,\n",
    "    train_results = train_results_fcnn,\n",
    "    test_results = test_results_fcnn  \n",
    ")\n",
    "\n",
    "model_report(\n",
    "    name = 'CNN',\n",
    "    history = cnn_history,\n",
    "    train_results = train_results_cnn,\n",
    "    test_results = test_results_cnn  \n",
    ")\n",
    "\n",
    "model_report(\n",
    "    name = 'CNN sem polling',\n",
    "    history = cnn_wo_poll_history,\n",
    "    train_results = train_results_cnn_wo_poll,\n",
    "    test_results = test_results_cnn_wo_poll  \n",
    ")\n",
    "\n",
    "model_report(\n",
    "    name = 'CNN com data augmentation',\n",
    "    history = cnn_aug_history,\n",
    "    train_results = train_results_cnn_aug,\n",
    "    test_results = test_results_cnn_aug\n",
    ")\n",
    "\n",
    "model_report(\n",
    "    name = 'FCNN com data augmentation',\n",
    "    history = fcnn_aug_history,\n",
    "    train_results = train_results_fcnn_aug,\n",
    "    test_results = test_results_fcnn_aug\n",
    ")"
   ]
  }
 ],
 "metadata": {
  "kernelspec": {
   "display_name": "env-kmnist",
   "language": "python",
   "name": "python3"
  },
  "language_info": {
   "codemirror_mode": {
    "name": "ipython",
    "version": 3
   },
   "file_extension": ".py",
   "mimetype": "text/x-python",
   "name": "python",
   "nbconvert_exporter": "python",
   "pygments_lexer": "ipython3",
   "version": "3.10.12"
  }
 },
 "nbformat": 4,
 "nbformat_minor": 2
}
